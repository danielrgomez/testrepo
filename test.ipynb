{
    "cells": [
        {
            "cell_type": "code",
            "execution_count": 1,
            "metadata": {},
            "outputs": [
                {
                    "data": {
                        "text/plain": "4"
                    },
                    "execution_count": 1,
                    "metadata": {},
                    "output_type": "execute_result"
                }
            ],
            "source": "2+2"
        },
        {
            "cell_type": "code",
            "execution_count": 2,
            "metadata": {},
            "outputs": [
                {
                    "data": {
                        "text/html": "<div>\n<style scoped>\n    .dataframe tbody tr th:only-of-type {\n        vertical-align: middle;\n    }\n\n    .dataframe tbody tr th {\n        vertical-align: top;\n    }\n\n    .dataframe thead th {\n        text-align: right;\n    }\n</style>\n<table border=\"1\" class=\"dataframe\">\n  <thead>\n    <tr style=\"text-align: right;\">\n      <th></th>\n      <th>gender</th>\n      <th>drugs</th>\n      <th>pain</th>\n    </tr>\n  </thead>\n  <tbody>\n    <tr>\n      <th>0</th>\n      <td>male</td>\n      <td>C</td>\n      <td>12.40</td>\n    </tr>\n    <tr>\n      <th>1</th>\n      <td>female</td>\n      <td>A</td>\n      <td>7.69</td>\n    </tr>\n    <tr>\n      <th>2</th>\n      <td>male</td>\n      <td>C</td>\n      <td>14.00</td>\n    </tr>\n    <tr>\n      <th>3</th>\n      <td>female</td>\n      <td>A</td>\n      <td>9.69</td>\n    </tr>\n    <tr>\n      <th>4</th>\n      <td>male</td>\n      <td>C</td>\n      <td>11.60</td>\n    </tr>\n  </tbody>\n</table>\n</div>",
                        "text/plain": "   gender drugs   pain\n0    male     C  12.40\n1  female     A   7.69\n2    male     C  14.00\n3  female     A   9.69\n4    male     C  11.60"
                    },
                    "execution_count": 2,
                    "metadata": {},
                    "output_type": "execute_result"
                }
            ],
            "source": "# The code was removed by Watson Studio for sharing."
        },
        {
            "cell_type": "code",
            "execution_count": null,
            "metadata": {},
            "outputs": [],
            "source": ""
        }
    ],
    "metadata": {
        "kernelspec": {
            "display_name": "Python 3.6",
            "language": "python",
            "name": "python3"
        },
        "language_info": {
            "codemirror_mode": {
                "name": "ipython",
                "version": 3
            },
            "file_extension": ".py",
            "mimetype": "text/x-python",
            "name": "python",
            "nbconvert_exporter": "python",
            "pygments_lexer": "ipython3",
            "version": "3.6.9"
        }
    },
    "nbformat": 4,
    "nbformat_minor": 1
}